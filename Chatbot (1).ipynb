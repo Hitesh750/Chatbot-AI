{
  "cells": [
    {
      "cell_type": "code",
      "execution_count": null,
      "metadata": {
        "id": "ajwu00UPLhYI"
      },
      "outputs": [],
      "source": []
    },
    {
      "cell_type": "code",
      "execution_count": 2,
      "metadata": {
        "colab": {
          "base_uri": "https://localhost:8080/"
        },
        "id": "Hq80XwkJgqNG",
        "outputId": "e1961c3d-3cac-44e4-a71e-a0dde5312463"
      },
      "outputs": [
        {
          "name": "stdout",
          "output_type": "stream",
          "text": [
            "Drive already mounted at /content/drive; to attempt to forcibly remount, call drive.mount(\"/content/drive\", force_remount=True).\n"
          ]
        }
      ],
      "source": [
        "from google.colab import drive\n",
        "drive.mount('/content/drive')\n",
        "\n"
      ]
    },
    {
      "cell_type": "code",
      "execution_count": null,
      "metadata": {
        "colab": {
          "base_uri": "https://localhost:8080/"
        },
        "id": "3uoD7pkpYl3C",
        "outputId": "c83f7b95-8aae-4497-f1b2-8fcbaa88fd99"
      },
      "outputs": [
        {
          "name": "stdout",
          "output_type": "stream",
          "text": [
            "file_name /content/drive/MyDrive/simple.txt/simple.txt\n"
          ]
        },
        {
          "name": "stderr",
          "output_type": "stream",
          "text": [
            "/root/.cache/chroma/onnx_models/all-MiniLM-L6-v2/onnx.tar.gz: 100%|██████████| 79.3M/79.3M [00:02<00:00, 37.0MiB/s]\n"
          ]
        },
        {
          "name": "stdout",
          "output_type": "stream",
          "text": [
            "db_result Nike, Inc.[note 1] (stylized as NIKE) is an American athletic footwear and apparel corporation headquartered near Beaverton, Oregon.[6] It is the world's largest supplier of athletic shoes and apparel and a major manufacturer of sports equipment, with revenue in excess of US$46 billion in its fiscal year 2022.[7][8]\n",
            "Based on the given context, here are some key points about Nike, Inc.:\n",
            "\n",
            "1. **Headquarters**: Located near Beaverton, Oregon.\n",
            "2. **Industry**: American athletic footwear and apparel corporation.\n",
            "3. **Revenue**: Exceeds US$46 billion in its fiscal year 2022.\n",
            "4. **Market position**: World's largest supplier of athletic shoes and apparel.\n",
            "5. **Product offerings**: Major manufacturer of sports equipment, athletic shoes, and apparel.\n",
            "\n",
            "If you have any specific questions or would like more information, feel free to ask.\n"
          ]
        }
      ],
      "source": [
        "from re import DEBUG\n",
        "from google.colab import files\n",
        "from langchain_groq import ChatGroq\n",
        "import chromadb\n",
        "\n",
        "#uploaded = files.upload('/content/drive/My Drive/chroma_db/simple.txt')\n",
        "file_name = '/content/drive/MyDrive/simple.txt/simple.txt'\n",
        "print('file_name',file_name)\n",
        "with open (file_name , 'r') as f:\n",
        "  file_data = f.read()\n",
        "  ##split file data in line and each line treat as a document\n",
        "documents = file_data.splitlines()\n",
        "client = chromadb.PersistentClient(path = '/content/drive/MyDrive/chroma_db')\n",
        "collection = client.get_or_create_collection(name = 'chromadb_collection_demo')\n",
        "##Generate unique id for each ducument\n",
        "ids = [f\"doc_{i}\" for i in range(len(documents))]\n",
        "\n",
        "collection.add(\n",
        "    ids =ids,\n",
        "    documents =documents\n",
        ")\n",
        "query_text = 'nike'\n",
        "result = collection.query(\n",
        "    query_texts=query_text,\n",
        "    n_results=1\n",
        ")\n",
        "db_result = '\\n'.join(result['documents'][0])\n",
        "print('db_result',db_result)\n",
        "propmt = f\" Context:{db_result} , query:{query_text}\"\n",
        "\n",
        "llm = ChatGroq(\n",
        "    groq_api_key='groq_api_key',\n",
        "    model=\"llama-3.1-8b-instant\"\n",
        ")\n",
        "\n",
        "response = llm.invoke(propmt)\n",
        "print(response.content)"
      ]
    }
  ],
  "metadata": {
    "colab": {
      "provenance": []
    },
    "kernelspec": {
      "display_name": "Python 3",
      "name": "python3"
    },
    "language_info": {
      "name": "python"
    }
  },
  "nbformat": 4,
  "nbformat_minor": 0
}
